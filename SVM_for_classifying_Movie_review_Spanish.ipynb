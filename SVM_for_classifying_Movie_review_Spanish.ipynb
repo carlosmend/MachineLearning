{
  "metadata": {
    "kernelspec": {
      "language": "python",
      "display_name": "Python 3",
      "name": "python3"
    },
    "language_info": {
      "name": "python",
      "version": "3.10.10",
      "mimetype": "text/x-python",
      "codemirror_mode": {
        "name": "ipython",
        "version": 3
      },
      "pygments_lexer": "ipython3",
      "nbconvert_exporter": "python",
      "file_extension": ".py"
    },
    "colab": {
      "provenance": []
    }
  },
  "nbformat_minor": 0,
  "nbformat": 4,
  "cells": [
    {
      "cell_type": "code",
      "source": [
        "import pandas as pd\n",
        "from google.colab import drive\n",
        "drive.mount(\"/content/drive\")\n",
        "data=pd.read_csv('/content/drive/MyDrive/Datasets/IMDB_Dataset_SPANISH.csv')"
      ],
      "metadata": {
        "_uuid": "8f2839f25d086af736a60e9eeb907d3b93b6e0e5",
        "_cell_guid": "b1076dfc-b9ad-4769-8c92-a6c4dae69d19",
        "execution": {
          "iopub.status.busy": "2023-06-30T14:11:33.630142Z",
          "iopub.execute_input": "2023-06-30T14:11:33.630643Z",
          "iopub.status.idle": "2023-06-30T14:11:33.648662Z",
          "shell.execute_reply.started": "2023-06-30T14:11:33.630607Z",
          "shell.execute_reply": "2023-06-30T14:11:33.647608Z"
        },
        "trusted": true,
        "colab": {
          "base_uri": "https://localhost:8080/"
        },
        "id": "EM9gC47iz2fz",
        "outputId": "ba866274-6f7c-4ccd-9363-d6c70fe2836c"
      },
      "execution_count": null,
      "outputs": [
        {
          "output_type": "stream",
          "name": "stdout",
          "text": [
            "Drive already mounted at /content/drive; to attempt to forcibly remount, call drive.mount(\"/content/drive\", force_remount=True).\n"
          ]
        }
      ]
    },
    {
      "cell_type": "code",
      "source": [
        "\n",
        "import nltk\n",
        "import numpy as np\n",
        "import spacy\n",
        "import re\n",
        "import string\n",
        "from sklearn.feature_extraction.text import TfidfVectorizer\n",
        "from sklearn.feature_extraction import text #for stop_word\n",
        "\n",
        "\n",
        "#Spacy spanish piple\n",
        "!python -m spacy download es_core_news_lg"
      ],
      "metadata": {
        "execution": {
          "iopub.status.busy": "2023-06-30T14:12:06.337783Z",
          "iopub.execute_input": "2023-06-30T14:12:06.338356Z",
          "iopub.status.idle": "2023-06-30T14:13:02.091418Z",
          "shell.execute_reply.started": "2023-06-30T14:12:06.338326Z",
          "shell.execute_reply": "2023-06-30T14:13:02.090260Z"
        },
        "trusted": true,
        "colab": {
          "base_uri": "https://localhost:8080/"
        },
        "id": "OYwSAmaIz2f4",
        "outputId": "9eca60d9-67be-4c0b-c730-a7d4a276ecbf"
      },
      "execution_count": null,
      "outputs": [
        {
          "output_type": "stream",
          "name": "stdout",
          "text": [
            "2023-06-30 18:08:27.971685: W tensorflow/compiler/tf2tensorrt/utils/py_utils.cc:38] TF-TRT Warning: Could not find TensorRT\n",
            "Collecting es-core-news-lg==3.5.0\n",
            "  Downloading https://github.com/explosion/spacy-models/releases/download/es_core_news_lg-3.5.0/es_core_news_lg-3.5.0-py3-none-any.whl (568.0 MB)\n",
            "\u001b[2K     \u001b[90m━━━━━━━━━━━━━━━━━━━━━━━━━━━━━━━━━━━━━━━\u001b[0m \u001b[32m568.0/568.0 MB\u001b[0m \u001b[31m3.0 MB/s\u001b[0m eta \u001b[36m0:00:00\u001b[0m\n",
            "\u001b[?25hRequirement already satisfied: spacy<3.6.0,>=3.5.0 in /usr/local/lib/python3.10/dist-packages (from es-core-news-lg==3.5.0) (3.5.3)\n",
            "Requirement already satisfied: spacy-legacy<3.1.0,>=3.0.11 in /usr/local/lib/python3.10/dist-packages (from spacy<3.6.0,>=3.5.0->es-core-news-lg==3.5.0) (3.0.12)\n",
            "Requirement already satisfied: spacy-loggers<2.0.0,>=1.0.0 in /usr/local/lib/python3.10/dist-packages (from spacy<3.6.0,>=3.5.0->es-core-news-lg==3.5.0) (1.0.4)\n",
            "Requirement already satisfied: murmurhash<1.1.0,>=0.28.0 in /usr/local/lib/python3.10/dist-packages (from spacy<3.6.0,>=3.5.0->es-core-news-lg==3.5.0) (1.0.9)\n",
            "Requirement already satisfied: cymem<2.1.0,>=2.0.2 in /usr/local/lib/python3.10/dist-packages (from spacy<3.6.0,>=3.5.0->es-core-news-lg==3.5.0) (2.0.7)\n",
            "Requirement already satisfied: preshed<3.1.0,>=3.0.2 in /usr/local/lib/python3.10/dist-packages (from spacy<3.6.0,>=3.5.0->es-core-news-lg==3.5.0) (3.0.8)\n",
            "Requirement already satisfied: thinc<8.2.0,>=8.1.8 in /usr/local/lib/python3.10/dist-packages (from spacy<3.6.0,>=3.5.0->es-core-news-lg==3.5.0) (8.1.10)\n",
            "Requirement already satisfied: wasabi<1.2.0,>=0.9.1 in /usr/local/lib/python3.10/dist-packages (from spacy<3.6.0,>=3.5.0->es-core-news-lg==3.5.0) (1.1.2)\n",
            "Requirement already satisfied: srsly<3.0.0,>=2.4.3 in /usr/local/lib/python3.10/dist-packages (from spacy<3.6.0,>=3.5.0->es-core-news-lg==3.5.0) (2.4.6)\n",
            "Requirement already satisfied: catalogue<2.1.0,>=2.0.6 in /usr/local/lib/python3.10/dist-packages (from spacy<3.6.0,>=3.5.0->es-core-news-lg==3.5.0) (2.0.8)\n",
            "Requirement already satisfied: typer<0.8.0,>=0.3.0 in /usr/local/lib/python3.10/dist-packages (from spacy<3.6.0,>=3.5.0->es-core-news-lg==3.5.0) (0.7.0)\n",
            "Requirement already satisfied: pathy>=0.10.0 in /usr/local/lib/python3.10/dist-packages (from spacy<3.6.0,>=3.5.0->es-core-news-lg==3.5.0) (0.10.2)\n",
            "Requirement already satisfied: smart-open<7.0.0,>=5.2.1 in /usr/local/lib/python3.10/dist-packages (from spacy<3.6.0,>=3.5.0->es-core-news-lg==3.5.0) (6.3.0)\n",
            "Requirement already satisfied: tqdm<5.0.0,>=4.38.0 in /usr/local/lib/python3.10/dist-packages (from spacy<3.6.0,>=3.5.0->es-core-news-lg==3.5.0) (4.65.0)\n",
            "Requirement already satisfied: numpy>=1.15.0 in /usr/local/lib/python3.10/dist-packages (from spacy<3.6.0,>=3.5.0->es-core-news-lg==3.5.0) (1.22.4)\n",
            "Requirement already satisfied: requests<3.0.0,>=2.13.0 in /usr/local/lib/python3.10/dist-packages (from spacy<3.6.0,>=3.5.0->es-core-news-lg==3.5.0) (2.27.1)\n",
            "Requirement already satisfied: pydantic!=1.8,!=1.8.1,<1.11.0,>=1.7.4 in /usr/local/lib/python3.10/dist-packages (from spacy<3.6.0,>=3.5.0->es-core-news-lg==3.5.0) (1.10.9)\n",
            "Requirement already satisfied: jinja2 in /usr/local/lib/python3.10/dist-packages (from spacy<3.6.0,>=3.5.0->es-core-news-lg==3.5.0) (3.1.2)\n",
            "Requirement already satisfied: setuptools in /usr/local/lib/python3.10/dist-packages (from spacy<3.6.0,>=3.5.0->es-core-news-lg==3.5.0) (67.7.2)\n",
            "Requirement already satisfied: packaging>=20.0 in /usr/local/lib/python3.10/dist-packages (from spacy<3.6.0,>=3.5.0->es-core-news-lg==3.5.0) (23.1)\n",
            "Requirement already satisfied: langcodes<4.0.0,>=3.2.0 in /usr/local/lib/python3.10/dist-packages (from spacy<3.6.0,>=3.5.0->es-core-news-lg==3.5.0) (3.3.0)\n",
            "Requirement already satisfied: typing-extensions>=4.2.0 in /usr/local/lib/python3.10/dist-packages (from pydantic!=1.8,!=1.8.1,<1.11.0,>=1.7.4->spacy<3.6.0,>=3.5.0->es-core-news-lg==3.5.0) (4.6.3)\n",
            "Requirement already satisfied: urllib3<1.27,>=1.21.1 in /usr/local/lib/python3.10/dist-packages (from requests<3.0.0,>=2.13.0->spacy<3.6.0,>=3.5.0->es-core-news-lg==3.5.0) (1.26.16)\n",
            "Requirement already satisfied: certifi>=2017.4.17 in /usr/local/lib/python3.10/dist-packages (from requests<3.0.0,>=2.13.0->spacy<3.6.0,>=3.5.0->es-core-news-lg==3.5.0) (2023.5.7)\n",
            "Requirement already satisfied: charset-normalizer~=2.0.0 in /usr/local/lib/python3.10/dist-packages (from requests<3.0.0,>=2.13.0->spacy<3.6.0,>=3.5.0->es-core-news-lg==3.5.0) (2.0.12)\n",
            "Requirement already satisfied: idna<4,>=2.5 in /usr/local/lib/python3.10/dist-packages (from requests<3.0.0,>=2.13.0->spacy<3.6.0,>=3.5.0->es-core-news-lg==3.5.0) (3.4)\n",
            "Requirement already satisfied: blis<0.8.0,>=0.7.8 in /usr/local/lib/python3.10/dist-packages (from thinc<8.2.0,>=8.1.8->spacy<3.6.0,>=3.5.0->es-core-news-lg==3.5.0) (0.7.9)\n",
            "Requirement already satisfied: confection<1.0.0,>=0.0.1 in /usr/local/lib/python3.10/dist-packages (from thinc<8.2.0,>=8.1.8->spacy<3.6.0,>=3.5.0->es-core-news-lg==3.5.0) (0.0.4)\n",
            "Requirement already satisfied: click<9.0.0,>=7.1.1 in /usr/local/lib/python3.10/dist-packages (from typer<0.8.0,>=0.3.0->spacy<3.6.0,>=3.5.0->es-core-news-lg==3.5.0) (8.1.3)\n",
            "Requirement already satisfied: MarkupSafe>=2.0 in /usr/local/lib/python3.10/dist-packages (from jinja2->spacy<3.6.0,>=3.5.0->es-core-news-lg==3.5.0) (2.1.3)\n",
            "\u001b[38;5;2m✔ Download and installation successful\u001b[0m\n",
            "You can now load the package via spacy.load('es_core_news_lg')\n"
          ]
        }
      ]
    },
    {
      "cell_type": "code",
      "source": [
        "data.head()"
      ],
      "metadata": {
        "colab": {
          "base_uri": "https://localhost:8080/",
          "height": 206
        },
        "id": "IjbrqyhTfbut",
        "outputId": "525501bf-d11d-4ba8-80ed-c8f821f096d6"
      },
      "execution_count": null,
      "outputs": [
        {
          "output_type": "execute_result",
          "data": {
            "text/plain": [
              "   Unnamed: 0                                          review_en  \\\n",
              "0           0  One of the other reviewers has mentioned that ...   \n",
              "1           1  A wonderful little production. The filming tec...   \n",
              "2           2  I thought this was a wonderful way to spend ti...   \n",
              "3           3  Basically there's a family where a little boy ...   \n",
              "4           4  Petter Mattei's \"Love in the Time of Money\" is...   \n",
              "\n",
              "                                           review_es sentiment sentimiento  \n",
              "0  Uno de los otros críticos ha mencionado que de...  positive    positivo  \n",
              "1  Una pequeña pequeña producción.La técnica de f...  positive    positivo  \n",
              "2  Pensé que esta era una manera maravillosa de p...  positive    positivo  \n",
              "3  Básicamente, hay una familia donde un niño peq...  negative    negativo  \n",
              "4  El \"amor en el tiempo\" de Petter Mattei es una...  positive    positivo  "
            ],
            "text/html": [
              "\n",
              "  <div id=\"df-2915697c-d3de-4165-b89d-341ef20503e2\">\n",
              "    <div class=\"colab-df-container\">\n",
              "      <div>\n",
              "<style scoped>\n",
              "    .dataframe tbody tr th:only-of-type {\n",
              "        vertical-align: middle;\n",
              "    }\n",
              "\n",
              "    .dataframe tbody tr th {\n",
              "        vertical-align: top;\n",
              "    }\n",
              "\n",
              "    .dataframe thead th {\n",
              "        text-align: right;\n",
              "    }\n",
              "</style>\n",
              "<table border=\"1\" class=\"dataframe\">\n",
              "  <thead>\n",
              "    <tr style=\"text-align: right;\">\n",
              "      <th></th>\n",
              "      <th>Unnamed: 0</th>\n",
              "      <th>review_en</th>\n",
              "      <th>review_es</th>\n",
              "      <th>sentiment</th>\n",
              "      <th>sentimiento</th>\n",
              "    </tr>\n",
              "  </thead>\n",
              "  <tbody>\n",
              "    <tr>\n",
              "      <th>0</th>\n",
              "      <td>0</td>\n",
              "      <td>One of the other reviewers has mentioned that ...</td>\n",
              "      <td>Uno de los otros críticos ha mencionado que de...</td>\n",
              "      <td>positive</td>\n",
              "      <td>positivo</td>\n",
              "    </tr>\n",
              "    <tr>\n",
              "      <th>1</th>\n",
              "      <td>1</td>\n",
              "      <td>A wonderful little production. The filming tec...</td>\n",
              "      <td>Una pequeña pequeña producción.La técnica de f...</td>\n",
              "      <td>positive</td>\n",
              "      <td>positivo</td>\n",
              "    </tr>\n",
              "    <tr>\n",
              "      <th>2</th>\n",
              "      <td>2</td>\n",
              "      <td>I thought this was a wonderful way to spend ti...</td>\n",
              "      <td>Pensé que esta era una manera maravillosa de p...</td>\n",
              "      <td>positive</td>\n",
              "      <td>positivo</td>\n",
              "    </tr>\n",
              "    <tr>\n",
              "      <th>3</th>\n",
              "      <td>3</td>\n",
              "      <td>Basically there's a family where a little boy ...</td>\n",
              "      <td>Básicamente, hay una familia donde un niño peq...</td>\n",
              "      <td>negative</td>\n",
              "      <td>negativo</td>\n",
              "    </tr>\n",
              "    <tr>\n",
              "      <th>4</th>\n",
              "      <td>4</td>\n",
              "      <td>Petter Mattei's \"Love in the Time of Money\" is...</td>\n",
              "      <td>El \"amor en el tiempo\" de Petter Mattei es una...</td>\n",
              "      <td>positive</td>\n",
              "      <td>positivo</td>\n",
              "    </tr>\n",
              "  </tbody>\n",
              "</table>\n",
              "</div>\n",
              "      <button class=\"colab-df-convert\" onclick=\"convertToInteractive('df-2915697c-d3de-4165-b89d-341ef20503e2')\"\n",
              "              title=\"Convert this dataframe to an interactive table.\"\n",
              "              style=\"display:none;\">\n",
              "        \n",
              "  <svg xmlns=\"http://www.w3.org/2000/svg\" height=\"24px\"viewBox=\"0 0 24 24\"\n",
              "       width=\"24px\">\n",
              "    <path d=\"M0 0h24v24H0V0z\" fill=\"none\"/>\n",
              "    <path d=\"M18.56 5.44l.94 2.06.94-2.06 2.06-.94-2.06-.94-.94-2.06-.94 2.06-2.06.94zm-11 1L8.5 8.5l.94-2.06 2.06-.94-2.06-.94L8.5 2.5l-.94 2.06-2.06.94zm10 10l.94 2.06.94-2.06 2.06-.94-2.06-.94-.94-2.06-.94 2.06-2.06.94z\"/><path d=\"M17.41 7.96l-1.37-1.37c-.4-.4-.92-.59-1.43-.59-.52 0-1.04.2-1.43.59L10.3 9.45l-7.72 7.72c-.78.78-.78 2.05 0 2.83L4 21.41c.39.39.9.59 1.41.59.51 0 1.02-.2 1.41-.59l7.78-7.78 2.81-2.81c.8-.78.8-2.07 0-2.86zM5.41 20L4 18.59l7.72-7.72 1.47 1.35L5.41 20z\"/>\n",
              "  </svg>\n",
              "      </button>\n",
              "      \n",
              "  <style>\n",
              "    .colab-df-container {\n",
              "      display:flex;\n",
              "      flex-wrap:wrap;\n",
              "      gap: 12px;\n",
              "    }\n",
              "\n",
              "    .colab-df-convert {\n",
              "      background-color: #E8F0FE;\n",
              "      border: none;\n",
              "      border-radius: 50%;\n",
              "      cursor: pointer;\n",
              "      display: none;\n",
              "      fill: #1967D2;\n",
              "      height: 32px;\n",
              "      padding: 0 0 0 0;\n",
              "      width: 32px;\n",
              "    }\n",
              "\n",
              "    .colab-df-convert:hover {\n",
              "      background-color: #E2EBFA;\n",
              "      box-shadow: 0px 1px 2px rgba(60, 64, 67, 0.3), 0px 1px 3px 1px rgba(60, 64, 67, 0.15);\n",
              "      fill: #174EA6;\n",
              "    }\n",
              "\n",
              "    [theme=dark] .colab-df-convert {\n",
              "      background-color: #3B4455;\n",
              "      fill: #D2E3FC;\n",
              "    }\n",
              "\n",
              "    [theme=dark] .colab-df-convert:hover {\n",
              "      background-color: #434B5C;\n",
              "      box-shadow: 0px 1px 3px 1px rgba(0, 0, 0, 0.15);\n",
              "      filter: drop-shadow(0px 1px 2px rgba(0, 0, 0, 0.3));\n",
              "      fill: #FFFFFF;\n",
              "    }\n",
              "  </style>\n",
              "\n",
              "      <script>\n",
              "        const buttonEl =\n",
              "          document.querySelector('#df-2915697c-d3de-4165-b89d-341ef20503e2 button.colab-df-convert');\n",
              "        buttonEl.style.display =\n",
              "          google.colab.kernel.accessAllowed ? 'block' : 'none';\n",
              "\n",
              "        async function convertToInteractive(key) {\n",
              "          const element = document.querySelector('#df-2915697c-d3de-4165-b89d-341ef20503e2');\n",
              "          const dataTable =\n",
              "            await google.colab.kernel.invokeFunction('convertToInteractive',\n",
              "                                                     [key], {});\n",
              "          if (!dataTable) return;\n",
              "\n",
              "          const docLinkHtml = 'Like what you see? Visit the ' +\n",
              "            '<a target=\"_blank\" href=https://colab.research.google.com/notebooks/data_table.ipynb>data table notebook</a>'\n",
              "            + ' to learn more about interactive tables.';\n",
              "          element.innerHTML = '';\n",
              "          dataTable['output_type'] = 'display_data';\n",
              "          await google.colab.output.renderOutput(dataTable, element);\n",
              "          const docLink = document.createElement('div');\n",
              "          docLink.innerHTML = docLinkHtml;\n",
              "          element.appendChild(docLink);\n",
              "        }\n",
              "      </script>\n",
              "    </div>\n",
              "  </div>\n",
              "  "
            ]
          },
          "metadata": {},
          "execution_count": 27
        }
      ]
    },
    {
      "cell_type": "code",
      "source": [
        "print(data.value_counts('sentimiento'))\n",
        "print(' ')\n",
        "print('nulos')\n",
        "print(data.isnull().sum())"
      ],
      "metadata": {
        "colab": {
          "base_uri": "https://localhost:8080/"
        },
        "id": "08C-35aCDvXL",
        "outputId": "b24e3d89-11b6-46cb-f696-fa273e34c125"
      },
      "execution_count": null,
      "outputs": [
        {
          "output_type": "stream",
          "name": "stdout",
          "text": [
            "sentimiento\n",
            "negativo    25000\n",
            "positivo    25000\n",
            "dtype: int64\n",
            " \n",
            "nulos\n",
            "Unnamed: 0         0\n",
            "review_en          0\n",
            "sentiment          0\n",
            "sentimiento        0\n",
            "review_es_lemma    0\n",
            "dtype: int64\n"
          ]
        }
      ]
    },
    {
      "cell_type": "code",
      "source": [
        "columns_remove = ['Unnamed: 0', 'review_en', 'sentiment']\n",
        "dataset=data.drop(columns_remove ,axis=1)\n",
        "data.drop_duplicates(inplace=True)\n"
      ],
      "metadata": {
        "execution": {
          "iopub.status.busy": "2023-06-30T14:14:07.399962Z",
          "iopub.execute_input": "2023-06-30T14:14:07.401704Z",
          "iopub.status.idle": "2023-06-30T14:14:11.190332Z",
          "shell.execute_reply.started": "2023-06-30T14:14:07.401659Z",
          "shell.execute_reply": "2023-06-30T14:14:11.189326Z"
        },
        "trusted": true,
        "id": "n7sado3Az2f5"
      },
      "execution_count": null,
      "outputs": []
    },
    {
      "cell_type": "code",
      "source": [
        "def clean_text(text):\n",
        "    # convert text to lowercase\n",
        "    text = text.lower()\n",
        "\n",
        "    #Remove URLs\n",
        "    text=re.sub(r'http:?\\S+','',text)\n",
        "\n",
        "    # Remove punctuation characters\n",
        "    text = re.sub(\"[%s]\" % re.escape(string.punctuation), \" \", text)\n",
        "\n",
        "    # Remove non-ASCII characters, but ncluding Latin characters\n",
        "    text = re.sub(\"([^\\x00-\\x7F\\u00C0-\\u017F])+\", \" \", text)\n",
        "\n",
        "\n",
        "    #remove extra spaces and words with less than 2 characters\n",
        "    filter = [palabra for palabra in text.split() if (len(palabra) > 2 or palabra=='no') and palabra.isalpha() ]\n",
        "    text = \" \".join(filter)\n",
        "\n",
        "    return text\n",
        "data['review_es_clean'] = data['review_es'].apply(lambda x: clean_text(x))\n"
      ],
      "metadata": {
        "execution": {
          "iopub.status.busy": "2023-06-30T14:14:11.192478Z",
          "iopub.execute_input": "2023-06-30T14:14:11.193212Z",
          "iopub.status.idle": "2023-06-30T14:14:29.745192Z",
          "shell.execute_reply.started": "2023-06-30T14:14:11.193176Z",
          "shell.execute_reply": "2023-06-30T14:14:29.744045Z"
        },
        "trusted": true,
        "id": "CtR9P-Kxz2f5"
      },
      "execution_count": null,
      "outputs": []
    },
    {
      "cell_type": "code",
      "source": [
        "from nltk.corpus import stopwords\n",
        "nltk.download('stopwords')\n",
        "stop=list(stopwords.words(\"spanish\"))\n",
        "\n",
        "def remove_stopwords(text):\n",
        "    stopwords_esp = stopwords.words('spanish')\n",
        "    words = text.split()\n",
        "    text= [word for word in words if word not in stopwords_esp]\n",
        "    return \" \".join(text)\n",
        "data['review_es_clean']=data['review_es_clean'].apply(lambda x: remove_stopwords(x))"
      ],
      "metadata": {
        "execution": {
          "iopub.status.busy": "2023-06-30T14:14:29.747347Z",
          "iopub.execute_input": "2023-06-30T14:14:29.747798Z",
          "iopub.status.idle": "2023-06-30T14:15:07.045877Z",
          "shell.execute_reply.started": "2023-06-30T14:14:29.747763Z",
          "shell.execute_reply": "2023-06-30T14:15:07.044868Z"
        },
        "trusted": true,
        "colab": {
          "base_uri": "https://localhost:8080/"
        },
        "id": "6W7sGjO-z2f6",
        "outputId": "a2c3e591-9835-4da6-b2d3-0bdc6bd3fa99"
      },
      "execution_count": null,
      "outputs": [
        {
          "output_type": "stream",
          "name": "stderr",
          "text": [
            "[nltk_data] Downloading package stopwords to /root/nltk_data...\n",
            "[nltk_data]   Unzipping corpora/stopwords.zip.\n"
          ]
        }
      ]
    },
    {
      "cell_type": "code",
      "source": [
        "nlp = spacy.load('es_core_news_lg')\n",
        "\n",
        "def lemmatization(text):\n",
        "  doc = nlp(text)\n",
        "  lemas_fila = [token.lemma_ for token in doc]\n",
        "  text=' '.join(lemas_fila)\n",
        "  return ' '.join(lemas_fila)\n",
        "data['review_es_lemma']=data['review_es_clean'].apply(lambda x: lemmatization(x))"
      ],
      "metadata": {
        "trusted": true,
        "id": "S3s-j6z7z2f7"
      },
      "execution_count": null,
      "outputs": []
    },
    {
      "cell_type": "code",
      "source": [
        "data.head()"
      ],
      "metadata": {
        "execution": {
          "iopub.status.busy": "2023-06-30T14:36:26.283196Z",
          "iopub.execute_input": "2023-06-30T14:36:26.283572Z",
          "iopub.status.idle": "2023-06-30T14:36:26.303168Z",
          "shell.execute_reply.started": "2023-06-30T14:36:26.283540Z",
          "shell.execute_reply": "2023-06-30T14:36:26.300284Z"
        },
        "trusted": true,
        "colab": {
          "base_uri": "https://localhost:8080/",
          "height": 354
        },
        "id": "UoSiLRxyz2f7",
        "outputId": "f778470a-8b9a-42b7-ecf4-94a2401affb1"
      },
      "execution_count": null,
      "outputs": [
        {
          "output_type": "execute_result",
          "data": {
            "text/plain": [
              "   Unnamed: 0                                          review_en  \\\n",
              "0           0  One of the other reviewers has mentioned that ...   \n",
              "1           1  A wonderful little production. The filming tec...   \n",
              "2           2  I thought this was a wonderful way to spend ti...   \n",
              "3           3  Basically there's a family where a little boy ...   \n",
              "4           4  Petter Mattei's \"Love in the Time of Money\" is...   \n",
              "\n",
              "                                           review_es sentiment sentimiento  \\\n",
              "0  Uno de los otros críticos ha mencionado que de...  positive    positivo   \n",
              "1  Una pequeña pequeña producción.La técnica de f...  positive    positivo   \n",
              "2  Pensé que esta era una manera maravillosa de p...  positive    positivo   \n",
              "3  Básicamente, hay una familia donde un niño peq...  negative    negativo   \n",
              "4  El \"amor en el tiempo\" de Petter Mattei es una...  positive    positivo   \n",
              "\n",
              "                                     review_es_clean  \\\n",
              "0  críticos mencionado después ver solo episodio ...   \n",
              "1  pequeña pequeña producción técnica filmación i...   \n",
              "2  pensé manera maravillosa pasar tiempo fin sema...   \n",
              "3  básicamente familia niño pequeño jake piensa z...   \n",
              "4  amor tiempo petter mattei película visualmente...   \n",
              "\n",
              "                                     review_es_lemma  \n",
              "0  crítico mencionado después ver solo episodio e...  \n",
              "1  pequeño pequeño producción técnico filmación i...  \n",
              "2  pensar manera maravilloso pasar tiempo fin sem...  \n",
              "3  básicamente familia niño pequeño jake pensar z...  \n",
              "4  amor tiempo petter mattei película visualmente...  "
            ],
            "text/html": [
              "\n",
              "  <div id=\"df-7447bc15-f762-4e8b-a2a7-005700801e15\">\n",
              "    <div class=\"colab-df-container\">\n",
              "      <div>\n",
              "<style scoped>\n",
              "    .dataframe tbody tr th:only-of-type {\n",
              "        vertical-align: middle;\n",
              "    }\n",
              "\n",
              "    .dataframe tbody tr th {\n",
              "        vertical-align: top;\n",
              "    }\n",
              "\n",
              "    .dataframe thead th {\n",
              "        text-align: right;\n",
              "    }\n",
              "</style>\n",
              "<table border=\"1\" class=\"dataframe\">\n",
              "  <thead>\n",
              "    <tr style=\"text-align: right;\">\n",
              "      <th></th>\n",
              "      <th>Unnamed: 0</th>\n",
              "      <th>review_en</th>\n",
              "      <th>review_es</th>\n",
              "      <th>sentiment</th>\n",
              "      <th>sentimiento</th>\n",
              "      <th>review_es_clean</th>\n",
              "      <th>review_es_lemma</th>\n",
              "    </tr>\n",
              "  </thead>\n",
              "  <tbody>\n",
              "    <tr>\n",
              "      <th>0</th>\n",
              "      <td>0</td>\n",
              "      <td>One of the other reviewers has mentioned that ...</td>\n",
              "      <td>Uno de los otros críticos ha mencionado que de...</td>\n",
              "      <td>positive</td>\n",
              "      <td>positivo</td>\n",
              "      <td>críticos mencionado después ver solo episodio ...</td>\n",
              "      <td>crítico mencionado después ver solo episodio e...</td>\n",
              "    </tr>\n",
              "    <tr>\n",
              "      <th>1</th>\n",
              "      <td>1</td>\n",
              "      <td>A wonderful little production. The filming tec...</td>\n",
              "      <td>Una pequeña pequeña producción.La técnica de f...</td>\n",
              "      <td>positive</td>\n",
              "      <td>positivo</td>\n",
              "      <td>pequeña pequeña producción técnica filmación i...</td>\n",
              "      <td>pequeño pequeño producción técnico filmación i...</td>\n",
              "    </tr>\n",
              "    <tr>\n",
              "      <th>2</th>\n",
              "      <td>2</td>\n",
              "      <td>I thought this was a wonderful way to spend ti...</td>\n",
              "      <td>Pensé que esta era una manera maravillosa de p...</td>\n",
              "      <td>positive</td>\n",
              "      <td>positivo</td>\n",
              "      <td>pensé manera maravillosa pasar tiempo fin sema...</td>\n",
              "      <td>pensar manera maravilloso pasar tiempo fin sem...</td>\n",
              "    </tr>\n",
              "    <tr>\n",
              "      <th>3</th>\n",
              "      <td>3</td>\n",
              "      <td>Basically there's a family where a little boy ...</td>\n",
              "      <td>Básicamente, hay una familia donde un niño peq...</td>\n",
              "      <td>negative</td>\n",
              "      <td>negativo</td>\n",
              "      <td>básicamente familia niño pequeño jake piensa z...</td>\n",
              "      <td>básicamente familia niño pequeño jake pensar z...</td>\n",
              "    </tr>\n",
              "    <tr>\n",
              "      <th>4</th>\n",
              "      <td>4</td>\n",
              "      <td>Petter Mattei's \"Love in the Time of Money\" is...</td>\n",
              "      <td>El \"amor en el tiempo\" de Petter Mattei es una...</td>\n",
              "      <td>positive</td>\n",
              "      <td>positivo</td>\n",
              "      <td>amor tiempo petter mattei película visualmente...</td>\n",
              "      <td>amor tiempo petter mattei película visualmente...</td>\n",
              "    </tr>\n",
              "  </tbody>\n",
              "</table>\n",
              "</div>\n",
              "      <button class=\"colab-df-convert\" onclick=\"convertToInteractive('df-7447bc15-f762-4e8b-a2a7-005700801e15')\"\n",
              "              title=\"Convert this dataframe to an interactive table.\"\n",
              "              style=\"display:none;\">\n",
              "        \n",
              "  <svg xmlns=\"http://www.w3.org/2000/svg\" height=\"24px\"viewBox=\"0 0 24 24\"\n",
              "       width=\"24px\">\n",
              "    <path d=\"M0 0h24v24H0V0z\" fill=\"none\"/>\n",
              "    <path d=\"M18.56 5.44l.94 2.06.94-2.06 2.06-.94-2.06-.94-.94-2.06-.94 2.06-2.06.94zm-11 1L8.5 8.5l.94-2.06 2.06-.94-2.06-.94L8.5 2.5l-.94 2.06-2.06.94zm10 10l.94 2.06.94-2.06 2.06-.94-2.06-.94-.94-2.06-.94 2.06-2.06.94z\"/><path d=\"M17.41 7.96l-1.37-1.37c-.4-.4-.92-.59-1.43-.59-.52 0-1.04.2-1.43.59L10.3 9.45l-7.72 7.72c-.78.78-.78 2.05 0 2.83L4 21.41c.39.39.9.59 1.41.59.51 0 1.02-.2 1.41-.59l7.78-7.78 2.81-2.81c.8-.78.8-2.07 0-2.86zM5.41 20L4 18.59l7.72-7.72 1.47 1.35L5.41 20z\"/>\n",
              "  </svg>\n",
              "      </button>\n",
              "      \n",
              "  <style>\n",
              "    .colab-df-container {\n",
              "      display:flex;\n",
              "      flex-wrap:wrap;\n",
              "      gap: 12px;\n",
              "    }\n",
              "\n",
              "    .colab-df-convert {\n",
              "      background-color: #E8F0FE;\n",
              "      border: none;\n",
              "      border-radius: 50%;\n",
              "      cursor: pointer;\n",
              "      display: none;\n",
              "      fill: #1967D2;\n",
              "      height: 32px;\n",
              "      padding: 0 0 0 0;\n",
              "      width: 32px;\n",
              "    }\n",
              "\n",
              "    .colab-df-convert:hover {\n",
              "      background-color: #E2EBFA;\n",
              "      box-shadow: 0px 1px 2px rgba(60, 64, 67, 0.3), 0px 1px 3px 1px rgba(60, 64, 67, 0.15);\n",
              "      fill: #174EA6;\n",
              "    }\n",
              "\n",
              "    [theme=dark] .colab-df-convert {\n",
              "      background-color: #3B4455;\n",
              "      fill: #D2E3FC;\n",
              "    }\n",
              "\n",
              "    [theme=dark] .colab-df-convert:hover {\n",
              "      background-color: #434B5C;\n",
              "      box-shadow: 0px 1px 3px 1px rgba(0, 0, 0, 0.15);\n",
              "      filter: drop-shadow(0px 1px 2px rgba(0, 0, 0, 0.3));\n",
              "      fill: #FFFFFF;\n",
              "    }\n",
              "  </style>\n",
              "\n",
              "      <script>\n",
              "        const buttonEl =\n",
              "          document.querySelector('#df-7447bc15-f762-4e8b-a2a7-005700801e15 button.colab-df-convert');\n",
              "        buttonEl.style.display =\n",
              "          google.colab.kernel.accessAllowed ? 'block' : 'none';\n",
              "\n",
              "        async function convertToInteractive(key) {\n",
              "          const element = document.querySelector('#df-7447bc15-f762-4e8b-a2a7-005700801e15');\n",
              "          const dataTable =\n",
              "            await google.colab.kernel.invokeFunction('convertToInteractive',\n",
              "                                                     [key], {});\n",
              "          if (!dataTable) return;\n",
              "\n",
              "          const docLinkHtml = 'Like what you see? Visit the ' +\n",
              "            '<a target=\"_blank\" href=https://colab.research.google.com/notebooks/data_table.ipynb>data table notebook</a>'\n",
              "            + ' to learn more about interactive tables.';\n",
              "          element.innerHTML = '';\n",
              "          dataTable['output_type'] = 'display_data';\n",
              "          await google.colab.output.renderOutput(dataTable, element);\n",
              "          const docLink = document.createElement('div');\n",
              "          docLink.innerHTML = docLinkHtml;\n",
              "          element.appendChild(docLink);\n",
              "        }\n",
              "      </script>\n",
              "    </div>\n",
              "  </div>\n",
              "  "
            ]
          },
          "metadata": {},
          "execution_count": 11
        }
      ]
    },
    {
      "cell_type": "code",
      "source": [
        "columns_remove = ['review_es','review_es_clean']\n",
        "data=data.drop(columns_remove ,axis=1)"
      ],
      "metadata": {
        "execution": {
          "iopub.status.busy": "2023-06-30T14:36:43.425348Z",
          "iopub.execute_input": "2023-06-30T14:36:43.425708Z",
          "iopub.status.idle": "2023-06-30T14:36:43.435422Z",
          "shell.execute_reply.started": "2023-06-30T14:36:43.425680Z",
          "shell.execute_reply": "2023-06-30T14:36:43.434355Z"
        },
        "trusted": true,
        "id": "gHP3IeDTz2f8"
      },
      "execution_count": null,
      "outputs": []
    },
    {
      "cell_type": "code",
      "source": [
        "from sklearn.model_selection import train_test_split\n",
        "train, test = train_test_split(data,test_size=0.30,random_state=42)\n",
        "x_train,y_train=train['review_es_lemma'],train['sentimiento']\n",
        "x_test,y_test=test['review_es_lemma'],test['sentimiento']\n",
        "print(len(x_train),len(x_test))"
      ],
      "metadata": {
        "trusted": true,
        "colab": {
          "base_uri": "https://localhost:8080/"
        },
        "id": "U9GsoJ6hz2f8",
        "outputId": "15fafa1f-1bdd-4d46-ee29-6490763eaa42"
      },
      "execution_count": null,
      "outputs": [
        {
          "output_type": "stream",
          "name": "stdout",
          "text": [
            "35000 15000\n"
          ]
        }
      ]
    },
    {
      "cell_type": "code",
      "source": [
        "#Note1: it´s better to use bigram than unigram, but needs GPU.\n",
        "#Note2: To find a min and a max, you must try several values. Recommendation max_df(0.7-0.9)\n",
        "tfidf=TfidfVectorizer(ngram_range=(1,2),min_df=0.005,max_df=0.70)\n",
        "X_train=tfidf.fit_transform(x_train)  #y_train no es necesario porque es la salida\n",
        "X_test=tfidf.transform(x_test)  #no toca hacer fit de nuevo ya que tfidf ya hizo fit arriba en train\n",
        "print(\"train\",X_train.shape)\n",
        "print(\"test\",X_test.shape)"
      ],
      "metadata": {
        "execution": {
          "iopub.status.busy": "2023-06-30T14:36:53.856080Z",
          "iopub.execute_input": "2023-06-30T14:36:53.856495Z",
          "iopub.status.idle": "2023-06-30T14:37:11.388642Z",
          "shell.execute_reply.started": "2023-06-30T14:36:53.856461Z",
          "shell.execute_reply": "2023-06-30T14:37:11.387602Z"
        },
        "trusted": true,
        "colab": {
          "base_uri": "https://localhost:8080/"
        },
        "id": "EZybo2-Rz2f9",
        "outputId": "30873fb4-76f3-4fb7-b248-9c8448f0a029"
      },
      "execution_count": null,
      "outputs": [
        {
          "output_type": "stream",
          "name": "stdout",
          "text": [
            "train (35000, 3480)\n",
            "test (15000, 3480)\n"
          ]
        }
      ]
    },
    {
      "cell_type": "code",
      "source": [
        "#using kernel sigmoid and L2 regularization C=0.5\n",
        "from sklearn.svm import SVC\n",
        "svc=SVC(kernel='sigmoid',probability=True,verbose=True)\n",
        "svc.fit(X_train,y_train)\n",
        "y_pred=svc.predict(X_test)\n"
      ],
      "metadata": {
        "execution": {
          "iopub.status.busy": "2023-06-30T14:39:46.349408Z",
          "iopub.execute_input": "2023-06-30T14:39:46.349783Z"
        },
        "trusted": true,
        "id": "LU8DCkozz2f-"
      },
      "execution_count": null,
      "outputs": []
    },
    {
      "cell_type": "code",
      "source": [
        "from sklearn.metrics import classification_report, confusion_matrix\n",
        "print(classification_report(y_test,y_pred))\n",
        "cm = confusion_matrix(y_test, y_pred)\n",
        "print(\"matriz confusión\")\n",
        "print(cm)"
      ],
      "metadata": {
        "colab": {
          "base_uri": "https://localhost:8080/"
        },
        "id": "TE0Uf4k0CRkU",
        "outputId": "c59a12ba-06c0-4235-ecba-54464b17b0b7"
      },
      "execution_count": null,
      "outputs": [
        {
          "output_type": "stream",
          "name": "stdout",
          "text": [
            "              precision    recall  f1-score   support\n",
            "\n",
            "    negativo       0.87      0.86      0.86      7411\n",
            "    positivo       0.86      0.87      0.87      7589\n",
            "\n",
            "    accuracy                           0.86     15000\n",
            "   macro avg       0.86      0.86      0.86     15000\n",
            "weighted avg       0.86      0.86      0.86     15000\n",
            "\n",
            "matriz confusión\n",
            "[[6345 1066]\n",
            " [ 980 6609]]\n"
          ]
        }
      ]
    },
    {
      "cell_type": "code",
      "source": [
        "print(\"Negative\")\n",
        "print(svc.predict(tfidf.transform(['Esta película fue una completa pérdida de tiempo. El guion era confuso y la trama carecía de coherencia. Los actores parecían aburridos y poco comprometidos con sus personajes. Definitivamente, una de las peores películas que he visto']).toarray()))\n",
        "print(svc.predict(tfidf.transform(['No puedo creer que esta película haya recibido buenas críticas. La trama predecible y los diálogos cliché hicieron que fuera una experiencia aburrida. Además, los efectos especiales eran de mala calidad y la dirección carecía de originalidad' ]).toarray()))\n",
        "print(svc.predict(tfidf.transform(['Una película llena de pretensiones. Intentaba ser profunda y reflexiva, pero solo logró aburrirme. Los personajes eran insulsos y no lograron despertar ninguna emoción en mí. No recomendaría perder el tiempo viendo esto' ]).toarray()))\n",
        "print(svc.predict(tfidf.transform(['Esta película prometía ser una emocionante aventura, pero se quedó en un intento fallido. Los efectos especiales eran deslumbrantes, pero eso no compensó la falta de desarrollo de la trama y la falta de carisma de los personajes. No vale la pena']).toarray()))\n",
        "print(svc.predict(tfidf.transform(['Una película que se autodenomina comedia, pero no hizo que ni siquiera una sonrisa se dibujara en mi rostro. Los chistes eran forzados y los actores parecían estar sobreactuando en todo momento. Evitaría esta película a toda costa' ]).toarray()))\n",
        "\n",
        "print(\"Positive\")\n",
        "print(svc.predict(tfidf.transform(['Esta película es una verdadera joya cinematográfica. El guion es inteligente y conmovedor, manteniéndote enganchado de principio a fin. Los actores entregan interpretaciones excepcionales, y la dirección es impecable. Definitivamente, una película que no te puedes perder']).toarray()))\n",
        "print(svc.predict(tfidf.transform(['Una obra maestra del cine. La historia es profundamente emotiva y te hace reflexionar sobre la vida. Los efectos visuales son impresionantes y la banda sonora es cautivadora. Los actores dan vida a personajes memorables y te sumergen por completo en la trama' ]).toarray()))\n",
        "print(svc.predict(tfidf.transform(['Una película que te deja sin aliento. La acción es trepidante y las escenas de combate son coreografiadas de manera brillante. Además, el guion inteligente y lleno de giros inesperados te mantiene en vilo hasta el último minuto. Definitivamente, una experiencia cinematográfica inolvidable' ]).toarray()))\n",
        "print(svc.predict(tfidf.transform(['Una comedia ingeniosa y refrescante que te hará reír a carcajadas. Los diálogos son hilarantes y los actores tienen una química perfecta. Además, la dirección logra capturar la esencia de la historia de una manera divertida y entretenida. Una película que te dejará de buen humor']).toarray()))\n",
        "print(svc.predict(tfidf.transform(['Una película que te transporta a un mundo de fantasía asombroso. Los efectos especiales son impresionantes y te sumergen por completo en ese universo mágico. La historia es conmovedora y los personajes te roban el corazón. Una película que te hace creer en la magia del cine' ]).toarray()))\n",
        "\n",
        "\n"
      ],
      "metadata": {
        "colab": {
          "base_uri": "https://localhost:8080/"
        },
        "id": "NsnnEYgfCfRT",
        "outputId": "5466530b-db5c-4355-eb61-92e57519b3f6"
      },
      "execution_count": null,
      "outputs": [
        {
          "output_type": "stream",
          "name": "stdout",
          "text": [
            "Negative\n",
            "['negativo']\n",
            "['negativo']\n",
            "['negativo']\n",
            "['negativo']\n",
            "['negativo']\n",
            "Positive\n",
            "['positivo']\n",
            "['positivo']\n",
            "['positivo']\n",
            "['positivo']\n",
            "['positivo']\n"
          ]
        }
      ]
    },
    {
      "cell_type": "code",
      "source": [
        "import pickle\n",
        "with open('tfidf_movie_svm.pkl', 'wb') as file:\n",
        "    pickle.dump(tfidf, file)\n",
        "with open('svm_movie.sav', 'wb') as file:\n",
        "    pickle.dump(svc, file)\n",
        "\n",
        "from google.colab import files\n",
        "files.download('svm_movie.sav')\n",
        "files.download('tfidf_movie_svm.pkl')"
      ],
      "metadata": {
        "colab": {
          "base_uri": "https://localhost:8080/",
          "height": 17
        },
        "id": "HV0PRdKxCo0A",
        "outputId": "ac939ac0-b955-4d27-f9ff-a7d98602befc"
      },
      "execution_count": null,
      "outputs": [
        {
          "output_type": "display_data",
          "data": {
            "text/plain": [
              "<IPython.core.display.Javascript object>"
            ],
            "application/javascript": [
              "\n",
              "    async function download(id, filename, size) {\n",
              "      if (!google.colab.kernel.accessAllowed) {\n",
              "        return;\n",
              "      }\n",
              "      const div = document.createElement('div');\n",
              "      const label = document.createElement('label');\n",
              "      label.textContent = `Downloading \"${filename}\": `;\n",
              "      div.appendChild(label);\n",
              "      const progress = document.createElement('progress');\n",
              "      progress.max = size;\n",
              "      div.appendChild(progress);\n",
              "      document.body.appendChild(div);\n",
              "\n",
              "      const buffers = [];\n",
              "      let downloaded = 0;\n",
              "\n",
              "      const channel = await google.colab.kernel.comms.open(id);\n",
              "      // Send a message to notify the kernel that we're ready.\n",
              "      channel.send({})\n",
              "\n",
              "      for await (const message of channel.messages) {\n",
              "        // Send a message to notify the kernel that we're ready.\n",
              "        channel.send({})\n",
              "        if (message.buffers) {\n",
              "          for (const buffer of message.buffers) {\n",
              "            buffers.push(buffer);\n",
              "            downloaded += buffer.byteLength;\n",
              "            progress.value = downloaded;\n",
              "          }\n",
              "        }\n",
              "      }\n",
              "      const blob = new Blob(buffers, {type: 'application/binary'});\n",
              "      const a = document.createElement('a');\n",
              "      a.href = window.URL.createObjectURL(blob);\n",
              "      a.download = filename;\n",
              "      div.appendChild(a);\n",
              "      a.click();\n",
              "      div.remove();\n",
              "    }\n",
              "  "
            ]
          },
          "metadata": {}
        },
        {
          "output_type": "display_data",
          "data": {
            "text/plain": [
              "<IPython.core.display.Javascript object>"
            ],
            "application/javascript": [
              "download(\"download_be5ee14e-dadf-43cc-847b-7612346dcb2e\", \"svm_movie.sav\", 11887889)"
            ]
          },
          "metadata": {}
        },
        {
          "output_type": "display_data",
          "data": {
            "text/plain": [
              "<IPython.core.display.Javascript object>"
            ],
            "application/javascript": [
              "\n",
              "    async function download(id, filename, size) {\n",
              "      if (!google.colab.kernel.accessAllowed) {\n",
              "        return;\n",
              "      }\n",
              "      const div = document.createElement('div');\n",
              "      const label = document.createElement('label');\n",
              "      label.textContent = `Downloading \"${filename}\": `;\n",
              "      div.appendChild(label);\n",
              "      const progress = document.createElement('progress');\n",
              "      progress.max = size;\n",
              "      div.appendChild(progress);\n",
              "      document.body.appendChild(div);\n",
              "\n",
              "      const buffers = [];\n",
              "      let downloaded = 0;\n",
              "\n",
              "      const channel = await google.colab.kernel.comms.open(id);\n",
              "      // Send a message to notify the kernel that we're ready.\n",
              "      channel.send({})\n",
              "\n",
              "      for await (const message of channel.messages) {\n",
              "        // Send a message to notify the kernel that we're ready.\n",
              "        channel.send({})\n",
              "        if (message.buffers) {\n",
              "          for (const buffer of message.buffers) {\n",
              "            buffers.push(buffer);\n",
              "            downloaded += buffer.byteLength;\n",
              "            progress.value = downloaded;\n",
              "          }\n",
              "        }\n",
              "      }\n",
              "      const blob = new Blob(buffers, {type: 'application/binary'});\n",
              "      const a = document.createElement('a');\n",
              "      a.href = window.URL.createObjectURL(blob);\n",
              "      a.download = filename;\n",
              "      div.appendChild(a);\n",
              "      a.click();\n",
              "      div.remove();\n",
              "    }\n",
              "  "
            ]
          },
          "metadata": {}
        },
        {
          "output_type": "display_data",
          "data": {
            "text/plain": [
              "<IPython.core.display.Javascript object>"
            ],
            "application/javascript": [
              "download(\"download_3914f113-17ff-46ce-85be-dbbbd40d8bf0\", \"tfidf_movie_svm.pkl\", 40853257)"
            ]
          },
          "metadata": {}
        }
      ]
    }
  ]
}